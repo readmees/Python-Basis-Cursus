{
  "metadata": {
    "kernelspec": {
      "name": "python",
      "display_name": "Pyolite",
      "language": "python"
    },
    "language_info": {
      "codemirror_mode": {
        "name": "python",
        "version": 3
      },
      "file_extension": ".py",
      "mimetype": "text/x-python",
      "name": "python",
      "nbconvert_exporter": "python",
      "pygments_lexer": "ipython3",
      "version": "3.8"
    }
  },
  "nbformat_minor": 4,
  "nbformat": 4,
  "cells": [
    {
      "cell_type": "markdown",
      "source": "# Libraries\n## Introductie\n\nDoor gebruik te maken van libaries ontdekken we pas echt de kracht van Python.\n\nLibraries zijn namelijk externe bestanden met Python code waarmee we nieuwe functionaliteiten ontgrendelen in Python.\n\nWaarschijnlijk heb je in een paar voorbeelden al een libraries gezien, dit zijn de regels code die beginnen met **import**.\n\nBijvoorbeeld, we importeren **time** om de sleep methode te gebruiken.",
      "metadata": {}
    },
    {
      "cell_type": "code",
      "source": "import time\n\nprint(\"Time library is geimporteerd\")\ntime.sleep(2) # Wait for x seconds\nprint(\"2 seconden later\")\ntime.sleep(4)\nprint(\"4 seconden later\")\ntime.sleep(6)\nprint(\"6 seconden later\")",
      "metadata": {},
      "execution_count": null,
      "outputs": []
    },
    {
      "cell_type": "markdown",
      "source": "Hier kan je zien wat je allemaal kunt doen met de time library: https://docs.python.org/3/library/time.html",
      "metadata": {}
    },
    {
      "cell_type": "markdown",
      "source": "Een ander voorbeeld, door **datetime** te importeren kunnen we de huidige datum en tijd opvragen:",
      "metadata": {}
    },
    {
      "cell_type": "code",
      "source": "import datetime\n\nprint(datetime.datetime.now())\n\nprint(datetime.datetime.now().day) # Vraag alleen de huidige dag op",
      "metadata": {},
      "execution_count": null,
      "outputs": []
    },
    {
      "cell_type": "markdown",
      "source": "## Opdracht 1\nVoeg sleep methodes toe tussen de print statements om het volgende programma natuurlijker te laten verlopen.",
      "metadata": {}
    },
    {
      "cell_type": "code",
      "source": "print(\"Welkom bij de wiskunde-quiz!\")\nprint(\"Hier wordt je rekenvaardigheid getoetst\")\nprint(\"Wat is 16 keer 5?\")\ngebruiker_antwoord = int(input(\"Vul je antwoord in: \"))\nprint(\"Bedankt voor je antwoord! We gaan het evaluaren, wacht 3 seconden\")\nif gebruiker_antwoord == 80:\n    print(\"Je had het goed!\")\nelse:\n    print(\"Je had het fout!\")",
      "metadata": {},
      "execution_count": null,
      "outputs": []
    },
    {
      "cell_type": "markdown",
      "source": "## Opdracht 2\nSchrijf een programma waarin je het huidige jaartal opvraagt. Vervolgens schrijf je een functie waarin het huidige jaartal als argument wordt meegeven, in de functie reken je uit hoeveel eeuwen er in het jaartal passen en print je het antwoord uit.\n\nTip: Gebruik Google!",
      "metadata": {}
    },
    {
      "cell_type": "code",
      "source": "def eeuwen_in_jaartal(jaartal):\n    print(jaartal // 100)\n\nhuidige_jaar = ... # Vraag hier het huidige jaartal op\n\neeuwen_in_jaartal(huidige_jaar)",
      "metadata": {},
      "execution_count": null,
      "outputs": []
    },
    {
      "cell_type": "markdown",
      "source": "## Opdracht 3\nImporteer **math** https://docs.python.org/3/library/math.html\n\nKijk in de documentatie hoe je de wortel van een getal kunt nemen.\n\nSchrijf een functie waarin je een getal als argument neemt, de wortel uitrekent, en deze opslaat in een variabele door middel van een return statement.",
      "metadata": {}
    },
    {
      "cell_type": "code",
      "source": "import math\n\ndef neem_wortel(getal):\n    pass # Verander deze regel\n\nuitkomst_wortel = neem_wortel(25)\n\nprint(uitkomst_wortel)\n",
      "metadata": {},
      "execution_count": null,
      "outputs": []
    },
    {
      "cell_type": "markdown",
      "source": "## Bonus\nSchrijf een stuk code waarmee je het huidige weeknummer op kunt vragen en print deze uit!\n\nTip: Google!",
      "metadata": {}
    },
    {
      "cell_type": "code",
      "source": "",
      "metadata": {},
      "execution_count": null,
      "outputs": []
    }
  ]
}