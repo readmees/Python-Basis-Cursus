{
  "metadata": {
    "language_info": {
      "codemirror_mode": {
        "name": "python",
        "version": 3
      },
      "file_extension": ".py",
      "mimetype": "text/x-python",
      "name": "python",
      "nbconvert_exporter": "python",
      "pygments_lexer": "ipython3",
      "version": "3.8"
    },
    "kernelspec": {
      "name": "python",
      "display_name": "Pyolite",
      "language": "python"
    }
  },
  "nbformat_minor": 4,
  "nbformat": 4,
  "cells": [
    {
      "cell_type": "code",
      "source": "''' 0. Debug de squared functie'''\ndef squaed(b):\n    return a * a\nprint(squared(4))",
      "metadata": {},
      "execution_count": null,
      "outputs": []
    },
    {
      "cell_type": "code",
      "source": "''' 1. Schrijf met behulp van de funtie hierboven een functie die de som neemt van twee getallen.'''\ndef som(getal1, getal2):\n    #TODO maak af\n\nprint(1, 2)",
      "metadata": {},
      "execution_count": null,
      "outputs": []
    },
    {
      "cell_type": "code",
      "source": "''' 2.  Schrijf code in de volgende velden.'''\n#TODO Print 5 kleiner dan 6\n\n#TODO Print 2 groter dan 10\n\n#TODO Print 8 gelijk aan 8\n\n#TODO Print 5 is niet 10 \n\n#TODO Print 5 kleiner dan 10 \n\n#TODO Print 5 kleiner dan of gelijk aan 5\n\n#TODO Print 5 groter dan of gelijk aan 3\n\n#TODO Print 5 groter dan of gelijk aan 5\n\n\n# Hoef niet alleen met cijfers, verander zo dat het werkt met uw eigen naam\nprint('Mees' == 'Mees')\n\nmy_name = 'Chantal'\nif my_name == 'Mees':\n    print('Dit is mijn naam')\nelse:\n    print('Dit is niet mijn naam')",
      "metadata": {},
      "execution_count": null,
      "outputs": []
    },
    {
      "cell_type": "code",
      "source": "''' 3. Schrijf een functie die de tijd als output geeft of het ochtend, middag, avond of nacht is.\nOm 6 uur begint de ochtend, om 12 uur de middag, om 18 uur de avond en om 0 uur de nacht nacht.\n'''\ndef morgen_of_ochtend(tijd):\n    ''' Hier kan je kort uitlegen wat je functie doet'''\n    #TODO maak functie af\n    \n# Hier een paar voorbeelden, maar probeer zelf ook uit of het werkt met andere waardes\nprint(morgen_of_ochtend(11)) # Elf uur is ochtend, dus return 'Het is ochtend!'\nprint(morgen_of_ochtend(22)) # Elf uur is ochtend, dus return 'Het is avond!'\nprint(morgen_of_ochtend(3)) # Elf uur is ochtend, dus return 'Het is nacht!'\nprint(morgen_of_ochtend(23.59)) # Elf uur is ochtend, dus return 'Het is avond!'\n\n\n#TODO Je kan de gebruiker nu ook om input vragen en je functie aanropen\n# Tip: tijd moet als float, input is altijd als string\n\n",
      "metadata": {},
      "execution_count": null,
      "outputs": []
    },
    {
      "cell_type": "code",
      "source": "''' 4. Typecasting - schrijf een functie die \n        - je input een int maakt als het float is en dat returned\n        - je input een float maakt als het een int is en dat returned\n        - de string 'Het moet een int of float zijn' returned als het geen van beide is\n    Tip: gebruik oa if type(input) == int: '''\n\ndef type_conwwverter(int_of_float):\n    #TODO maak functie af\n    \n#TODO roep je functie aan met input van de gebruiker",
      "metadata": {},
      "execution_count": null,
      "outputs": []
    },
    {
      "cell_type": "code",
      "source": "''' 5. Schrijf een functie die je leeftijd omzet naar dagen'''\ndef type_conwwverter(int_of_float):\n    #TODO maak functie af\n    \n#TODO roep je functie aan met input van de gebruiker",
      "metadata": {},
      "execution_count": null,
      "outputs": []
    },
    {
      "cell_type": "code",
      "source": "''' 6. Schrijf een functie dat een lijst en een index als input neemt het element op de index returned.\n        Zorg dat de functie foutmeldingen returnen als de index negatief, een float, of groter dan de \n        lijst lang is.\n        Tip: de lengte van een lijst kan gevonden worden met len(lijst)'''\ndef type_omzetter(lijst, index):\n    #TODO maak functie af\n    \n",
      "metadata": {},
      "execution_count": null,
      "outputs": []
    },
    {
      "cell_type": "code",
      "source": "''' 7. Debug de code hieronder. '''\ndef begroeting(student):\n    return \"U bent hier geen student\"\n    if opleiding == \"ja\":\n        return \"U bent hier student\"\ninput('Bent u student?')\nbegroeting(student)",
      "metadata": {},
      "execution_count": null,
      "outputs": []
    },
    {
      "cell_type": "code",
      "source": "''' 8. Jackpot - return '€100!' als alle 4 iconen gelijk zijn, anders return 'Verloren''''\ndef jackpot(resultaat):\n\n    \ntest_jackpot([\"@\", \"@\", \"@\", \"@\"]) # True\n\ntest_jackpot([\"abc\", \"abc\", \"abc\", \"abc\"]) # True\n\ntest_jackpot([\"SS\", \"SS\", \"SS\", \"SS\"]) # True\n\ntest_jackpot([\"&&\", \"&\", \"&&&\", \"&&&&\"]) # False\n\ntest_jackpot([\"SS\", \"SS\", \"SS\", \"Ss\"]) # False",
      "metadata": {},
      "execution_count": null,
      "outputs": []
    },
    {
      "cell_type": "code",
      "source": "''' Snel klaar? Probeer deze opdracht. U kunt altijd vragen naar meer opdrachten\n    Bonus 1: Je kan de jackpot verder uitbreiden door verschillende prijzen bij bepaalde combinaties te returnen\n    Bonus 2: Je kan de onderwerpen herhalen en verder oefenen op https://www.w3schools.com/python/default.asp.\n    Bonus 3: Je kan op https://edabit.com voor meer opdrachten, of mij vragen om een paar \n        goede binnen het lesprogramma uit te zoeken.'''",
      "metadata": {},
      "execution_count": null,
      "outputs": []
    }
  ]
}